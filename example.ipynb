{
 "cells": [
  {
   "cell_type": "code",
   "execution_count": 2,
   "id": "7308eded-83b7-413e-ac51-fbf87e96b396",
   "metadata": {},
   "outputs": [],
   "source": [
    "# https://python-control.readthedocs.io/en/latest/optimal.html"
   ]
  },
  {
   "cell_type": "code",
   "execution_count": 3,
   "id": "c44a6607-4dc9-4f71-a4ee-4ff0ea751d15",
   "metadata": {},
   "outputs": [],
   "source": [
    "import numpy as np\n",
    "import control as ct\n",
    "import control.optimal as opt\n",
    "import matplotlib.pyplot as plt\n",
    "%matplotlib inline"
   ]
  },
  {
   "cell_type": "code",
   "execution_count": 4,
   "id": "e3c9bd6f-51ae-4c29-80ef-b6ae4a452655",
   "metadata": {},
   "outputs": [],
   "source": [
    "import numpy as np\n",
    "import control as ct\n",
    "import control.optimal as opt\n",
    "import matplotlib.pyplot as plt\n",
    "\n",
    "def vehicle_update(t, x, u, params):\n",
    "    # Get the parameters for the model\n",
    "    l = params.get('wheelbase', 3.)         # vehicle wheelbase\n",
    "    phimax = params.get('maxsteer', 0.5)    # max steering angle (rad)\n",
    "\n",
    "    # Saturate the steering input\n",
    "    phi = np.clip(u[1], -phimax, phimax)\n",
    "\n",
    "    # Return the derivative of the state\n",
    "    return np.array([\n",
    "        np.cos(x[2]) * u[0],            # xdot = cos(theta) v\n",
    "        np.sin(x[2]) * u[0],            # ydot = sin(theta) v\n",
    "        (u[0] / l) * np.tan(phi)        # thdot = v/l tan(phi)\n",
    "    ])\n",
    "\n",
    "def vehicle_output(t, x, u, params):\n",
    "    return x                            # return x, y, theta (full state)\n",
    "\n",
    "# Define the vehicle steering dynamics as an input/output system\n",
    "vehicle = ct.NonlinearIOSystem(\n",
    "    vehicle_update, vehicle_output, states=3, name='vehicle',\n",
    "    inputs=('v', 'phi'), outputs=('x', 'y', 'theta'))"
   ]
  },
  {
   "cell_type": "code",
   "execution_count": 5,
   "id": "48617bfa-1d36-4e7d-abc6-8830c1432b07",
   "metadata": {},
   "outputs": [],
   "source": [
    "# We consider an optimal control problem that consists of “changing lanes” by moving from the \n",
    "# point x = 0 m, y = -2 m, \\theta = 0 to the point x = 100 m, y = 2 m, \\theta = 0) over a \n",
    "# period of 10 seconds and with a with a starting and ending velocity of 10 m/s:\n",
    "\n",
    "x0 = [0., -2., 0.]; u0 = [10., 0.]\n",
    "xf = [100., 2., 0.]; uf = [10., 0.]\n",
    "Tf = 10"
   ]
  },
  {
   "cell_type": "code",
   "execution_count": 6,
   "id": "d579d0be-0e94-4263-8db0-d2293657f72d",
   "metadata": {},
   "outputs": [],
   "source": [
    "Q = np.diag([0.1, 10, .1])    # keep lateral error low\n",
    "R = np.eye(2) * 0.1\n",
    "cost = opt.quadratic_cost(vehicle, Q, R, x0=xf, u0=uf)"
   ]
  },
  {
   "cell_type": "code",
   "execution_count": 7,
   "id": "1bed10b4-199c-4a06-932a-a7fd2dc5ce0d",
   "metadata": {},
   "outputs": [],
   "source": [
    "# We also constraint the maximum turning rate to 0.1 radians (about 6 degees) and \n",
    "# constrain the velocity to be in the range of 9 m/s to 11 m/s:\n",
    "constraints = [ opt.input_range_constraint(vehicle, [8, -0.1], [12, 0.1]) ]"
   ]
  },
  {
   "cell_type": "code",
   "execution_count": 8,
   "id": "09bee894-2ecf-4b09-9d56-0da56077c4b3",
   "metadata": {},
   "outputs": [
    {
     "name": "stdout",
     "output_type": "stream",
     "text": [
      "Summary statistics:\n",
      "* Cost function calls: 41\n",
      "* Constraint calls: 84\n",
      "* System simulations: 123\n"
     ]
    }
   ],
   "source": [
    "horizon = np.linspace(0, Tf, 20, endpoint=True)\n",
    "bend_left = [10, 0.01]        # slight left veer\n",
    "\n",
    "result = opt.solve_ocp(\n",
    "    vehicle, horizon, x0, cost, constraints, initial_guess=bend_left,\n",
    "    options={'eps': 0.01})    # set step size for gradient calculation\n",
    "\n",
    "# Extract the results\n",
    "u = result.inputs\n",
    "t, y = ct.input_output_response(vehicle, horizon, u, x0)"
   ]
  },
  {
   "cell_type": "code",
   "execution_count": 13,
   "id": "660960a9-1d71-43ca-ba54-38afd075308d",
   "metadata": {},
   "outputs": [
    {
     "data": {
      "image/png": "[encoded data removed]",
      "text/plain": [
       "<Figure size 432x288 with 3 Axes>"
      ]
     },
     "metadata": {
      "needs_background": "light"
     },
     "output_type": "display_data"
    }
   ],
   "source": [
    "# Plot the results\n",
    "plt.subplot(3, 1, 1)\n",
    "plt.plot(y[0], y[1])\n",
    "plt.plot(x0[0], x0[1], 'ro', xf[0], xf[1], 'ro')\n",
    "plt.xlabel(\"x [m]\")\n",
    "plt.ylabel(\"y [m]\")\n",
    "\n",
    "plt.subplot(3, 1, 2)\n",
    "plt.plot(t, u[0])\n",
    "plt.axis([0, 10, 8.5, 11.5])\n",
    "plt.plot([0, 10], [9, 9], 'k--', [0, 10], [11, 11], 'k--')\n",
    "plt.xlabel(\"t [sec]\")\n",
    "plt.ylabel(\"u1 [m/s]\")\n",
    "\n",
    "plt.subplot(3, 1, 3)\n",
    "plt.plot(t, u[1])\n",
    "plt.axis([0, 10, -0.15, 0.15])\n",
    "plt.plot([0, 10], [-0.1, -0.1], 'k--', [0, 10], [0.1, 0.1], 'k--')\n",
    "plt.xlabel(\"t [sec]\")\n",
    "plt.ylabel(\"u2 [rad/s]\")\n",
    "\n",
    "plt.suptitle(\"Lane change manuever\")\n",
    "plt.tight_layout()\n",
    "plt.savefig('example.jpg')\n",
    "plt.show()"
   ]
  },
  {
   "cell_type": "code",
   "execution_count": null,
   "id": "a7c5a4fe-0ed7-4df0-a9ed-6667d8fa01f4",
   "metadata": {},
   "outputs": [],
   "source": []
  }
 ],
 "metadata": {
  "kernelspec": {
   "display_name": "Python 3",
   "language": "python",
   "name": "python3"
  },
  "language_info": {
   "codemirror_mode": {
    "name": "ipython",
    "version": 3
   },
   "file_extension": ".py",
   "mimetype": "text/x-python",
   "name": "python",
   "nbconvert_exporter": "python",
   "pygments_lexer": "ipython3",
   "version": "3.8.10"
  }
 },
 "nbformat": 4,
 "nbformat_minor": 5
}
